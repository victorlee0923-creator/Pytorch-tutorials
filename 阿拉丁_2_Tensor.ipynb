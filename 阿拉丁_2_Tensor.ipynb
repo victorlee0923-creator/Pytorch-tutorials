{
  "nbformat": 4,
  "nbformat_minor": 0,
  "metadata": {
    "colab": {
      "provenance": [],
      "toc_visible": true,
      "gpuType": "T4",
      "authorship_tag": "ABX9TyOKK9RoyFgxuykakteyrT30",
      "include_colab_link": true
    },
    "kernelspec": {
      "name": "python3",
      "display_name": "Python 3"
    },
    "language_info": {
      "name": "python"
    },
    "accelerator": "GPU"
  },
  "cells": [
    {
      "cell_type": "markdown",
      "metadata": {
        "id": "view-in-github",
        "colab_type": "text"
      },
      "source": [
        "<a href=\"https://colab.research.google.com/github/victorlee0923-creator/Pytorch-tutorials/blob/main/%E9%98%BF%E6%8B%89%E4%B8%81_2_Tensor.ipynb\" target=\"_parent\"><img src=\"https://colab.research.google.com/assets/colab-badge.svg\" alt=\"Open In Colab\"/></a>"
      ]
    },
    {
      "cell_type": "code",
      "source": [
        "import torch"
      ],
      "metadata": {
        "id": "Rr5Sj_INEDIH"
      },
      "execution_count": 2,
      "outputs": []
    },
    {
      "cell_type": "code",
      "execution_count": null,
      "metadata": {
        "id": "Wf4nPTYH5AbJ"
      },
      "outputs": [],
      "source": [
        "# my_tensor=torch.tensor([[1,2,3],[4,5,6]],dtype=torch.float32,device='cuda',requires_grad=True)\n",
        "# print(my_tensor)\n"
      ]
    },
    {
      "cell_type": "markdown",
      "source": [
        "##Initializing tensors"
      ],
      "metadata": {
        "id": "eAF6Da32UiV4"
      }
    },
    {
      "cell_type": "code",
      "source": [
        "device=\"cuda\" if torch.cuda.is_available() else \"cpu\"\n",
        "my_tensor=torch.tensor([[1,2,3],[4,5,6]],dtype=torch.float32,device=device,requires_grad=True)"
      ],
      "metadata": {
        "id": "R9WqoH7EF3d2"
      },
      "execution_count": 28,
      "outputs": []
    },
    {
      "cell_type": "code",
      "source": [
        "#印出tensor的屬性\n",
        "print(my_tensor)\n",
        "print(my_tensor.dtype)\n",
        "print(my_tensor.device)\n",
        "print(my_tensor.shape)\n",
        "print(my_tensor.requires_grad)"
      ],
      "metadata": {
        "id": "jt_weqEOHPKP"
      },
      "execution_count": null,
      "outputs": []
    },
    {
      "cell_type": "markdown",
      "source": [
        "##Other common initialization methods"
      ],
      "metadata": {
        "id": "7Tdyk7a4UqTQ"
      }
    },
    {
      "cell_type": "code",
      "source": [
        "#其他初始化tensor的方法 Other common initialization methods\n",
        "\n",
        "x=torch.empty(size=(3,3)) #如果不知道要輸入甚麼value到tensor，可以用這個，內容是隨機的內存殘留值\n",
        "x=torch.zeros(size=(3,3)) #全部設為0\n",
        "x=torch.ones(size=(3,3)) #全部初始化為1\n",
        "x=torch.rand(size=(3,3)) #隨機初始化 範圍從0~1\n",
        "x=torch.eye(5,5) #單位矩陣 eye是I的諧音\n",
        "\n",
        "x=torch.arange(start=0,end=5,step=1) #這就跟python中的range沒什麼兩樣\n",
        "x=torch.linspace(start=0.1,end=1,steps=10) #等差數列，創建一個包含 10 個等間距數值的一維張量，範圍從 0.1 到 1（包含兩端點）\n",
        "x=torch.empty(size=(1,5)).normal_(mean=0,std=1) #問ai\n",
        "x=torch.empty(size=(1,5)).uniform_(0,1) #問ai\n",
        "x=torch.diag(torch.ones(3)) #創建3X3對角矩陣\n",
        "x=torch.diag(torch.tensor([2,4,6])) #設定值不全為1的對角矩陣\n",
        "\n",
        "print(x)"
      ],
      "metadata": {
        "id": "heWjPo--IHof"
      },
      "execution_count": null,
      "outputs": []
    },
    {
      "cell_type": "code",
      "source": [
        "#記住，以下這幾行的size可加可不加(原影片中沒加)\n",
        "\n",
        "x=torch.empty((3,3))\n",
        "x=torch.zeros((3,3))\n",
        "x=torch.ones((3,3))\n",
        "x=torch.rand((3,3))"
      ],
      "metadata": {
        "id": "Q-icbnoNWdr5"
      },
      "execution_count": null,
      "outputs": []
    },
    {
      "cell_type": "markdown",
      "source": [
        "##How to initialize and convert tensors to other types"
      ],
      "metadata": {
        "id": "hBsP04iCUxEg"
      }
    },
    {
      "cell_type": "code",
      "source": [
        "# How to initialize and convert tensors to other types (int, float, double)\n",
        "\n",
        "tensor=torch.arange(4)\n",
        "print(tensor.bool())\n",
        "print(tensor.short())\n",
        "print(tensor.long())\n",
        "print(tensor.half())\n",
        "print(tensor.float())\n",
        "print(tensor.double())"
      ],
      "metadata": {
        "colab": {
          "base_uri": "https://localhost:8080/"
        },
        "id": "48EqWe60IvBn",
        "outputId": "38b97ec0-0041-48b7-c2f4-d3b94a663b1a"
      },
      "execution_count": 42,
      "outputs": [
        {
          "output_type": "stream",
          "name": "stdout",
          "text": [
            "tensor([False,  True,  True,  True])\n"
          ]
        }
      ]
    },
    {
      "cell_type": "markdown",
      "source": [
        "##Array to Tensor conversion and vice-versa"
      ],
      "metadata": {
        "id": "rebV4kEjYNX5"
      }
    },
    {
      "cell_type": "code",
      "source": [
        "#Array to Tensor conversion and vice-versa\n",
        "import numpy as np\n",
        "np_array=np.zeros((5,5))\n",
        "tensor=torch.from_numpy(np_array)#轉換為tensor\n",
        "np_array_back=tensor.numpy()#轉換回numpy"
      ],
      "metadata": {
        "id": "YqZ3Vj6yVjzA"
      },
      "execution_count": null,
      "outputs": []
    }
  ]
}