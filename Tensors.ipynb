{
  "nbformat": 4,
  "nbformat_minor": 0,
  "metadata": {
    "colab": {
      "provenance": [],
      "authorship_tag": "ABX9TyPnyak/dCCu3iQq7IVpheD/",
      "include_colab_link": true
    },
    "kernelspec": {
      "name": "python3",
      "display_name": "Python 3"
    },
    "language_info": {
      "name": "python"
    }
  },
  "cells": [
    {
      "cell_type": "markdown",
      "metadata": {
        "id": "view-in-github",
        "colab_type": "text"
      },
      "source": [
        "<a href=\"https://colab.research.google.com/github/victorlee0923-creator/Pytorch-tutorials/blob/main/Tensors.ipynb\" target=\"_parent\"><img src=\"https://colab.research.google.com/assets/colab-badge.svg\" alt=\"Open In Colab\"/></a>"
      ]
    },
    {
      "cell_type": "code",
      "execution_count": 1,
      "metadata": {
        "id": "yypBOD-aY5ni"
      },
      "outputs": [],
      "source": [
        "import torch\n",
        "import numpy as np"
      ]
    },
    {
      "cell_type": "markdown",
      "source": [
        "##List"
      ],
      "metadata": {
        "id": "z8tc63fgZees"
      }
    },
    {
      "cell_type": "code",
      "source": [
        "my_list=[[1,2,3,4],[6,7,8,9,10]]\n",
        "print(my_list)"
      ],
      "metadata": {
        "colab": {
          "base_uri": "https://localhost:8080/"
        },
        "id": "wq-ztdczZgFc",
        "outputId": "090902c8-7b39-40de-cb11-1e282082ba87"
      },
      "execution_count": 2,
      "outputs": [
        {
          "output_type": "stream",
          "name": "stdout",
          "text": [
            "[[1, 2, 3, 4], [6, 7, 8, 9, 10]]\n"
          ]
        }
      ]
    },
    {
      "cell_type": "markdown",
      "source": [
        "##NUMPY ARRAYS"
      ],
      "metadata": {
        "id": "4MjHSII9adME"
      }
    },
    {
      "cell_type": "code",
      "source": [
        "#這裡可以回去看一下光頭之前講的關於numpy的影片\n",
        "np1=np.random.rand(3,4)\n",
        "print(np1)"
      ],
      "metadata": {
        "colab": {
          "base_uri": "https://localhost:8080/"
        },
        "id": "8x-NESWjahj8",
        "outputId": "8b4c4761-2a4f-43dd-ab2d-09639b98fbe3"
      },
      "execution_count": 3,
      "outputs": [
        {
          "output_type": "stream",
          "name": "stdout",
          "text": [
            "[[0.98777413 0.13593139 0.17116438 0.3204523 ]\n",
            " [0.76451293 0.60725896 0.09517728 0.89478821]\n",
            " [0.27437423 0.23482858 0.08172571 0.97886055]]\n"
          ]
        }
      ]
    },
    {
      "cell_type": "code",
      "source": [
        "print(type(np1))\n",
        "np1.dtype"
      ],
      "metadata": {
        "colab": {
          "base_uri": "https://localhost:8080/"
        },
        "id": "yBW2RIT3ciFd",
        "outputId": "0e86f11b-31e3-41ae-c2d2-337916acd7ea"
      },
      "execution_count": 4,
      "outputs": [
        {
          "output_type": "stream",
          "name": "stdout",
          "text": [
            "<class 'numpy.ndarray'>\n"
          ]
        },
        {
          "output_type": "execute_result",
          "data": {
            "text/plain": [
              "dtype('float64')"
            ]
          },
          "metadata": {},
          "execution_count": 4
        }
      ]
    },
    {
      "cell_type": "code",
      "source": [
        "tensor_2d=torch.rand(3,4)\n",
        "print(tensor_2d)"
      ],
      "metadata": {
        "id": "0WCqjVCL7eBG",
        "outputId": "b591583e-3bff-4634-cf32-b4f0aa998092",
        "colab": {
          "base_uri": "https://localhost:8080/"
        }
      },
      "execution_count": 5,
      "outputs": [
        {
          "output_type": "stream",
          "name": "stdout",
          "text": [
            "tensor([[0.4210, 0.3027, 0.7453, 0.4023],\n",
            "        [0.8633, 0.2891, 0.1523, 0.1474],\n",
            "        [0.2439, 0.0326, 0.6721, 0.7317]])\n"
          ]
        }
      ]
    }
  ]
}