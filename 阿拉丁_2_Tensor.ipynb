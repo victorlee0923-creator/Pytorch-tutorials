{
  "nbformat": 4,
  "nbformat_minor": 0,
  "metadata": {
    "colab": {
      "provenance": [],
      "toc_visible": true,
      "gpuType": "T4",
      "authorship_tag": "ABX9TyMc4SYeHNVWyOW35JC9+S4l",
      "include_colab_link": true
    },
    "kernelspec": {
      "name": "python3",
      "display_name": "Python 3"
    },
    "language_info": {
      "name": "python"
    },
    "accelerator": "GPU"
  },
  "cells": [
    {
      "cell_type": "markdown",
      "metadata": {
        "id": "view-in-github",
        "colab_type": "text"
      },
      "source": [
        "<a href=\"https://colab.research.google.com/github/victorlee0923-creator/Pytorch-tutorials/blob/main/%E9%98%BF%E6%8B%89%E4%B8%81_2_Tensor.ipynb\" target=\"_parent\"><img src=\"https://colab.research.google.com/assets/colab-badge.svg\" alt=\"Open In Colab\"/></a>"
      ]
    },
    {
      "cell_type": "code",
      "source": [
        "import torch"
      ],
      "metadata": {
        "id": "Rr5Sj_INEDIH"
      },
      "execution_count": 2,
      "outputs": []
    },
    {
      "cell_type": "code",
      "execution_count": 3,
      "metadata": {
        "id": "Wf4nPTYH5AbJ"
      },
      "outputs": [],
      "source": [
        "# my_tensor=torch.tensor([[1,2,3],[4,5,6]],dtype=torch.float32,device='cuda',requires_grad=True)\n",
        "# print(my_tensor)\n"
      ]
    },
    {
      "cell_type": "markdown",
      "source": [
        "##Initializing tensors"
      ],
      "metadata": {
        "id": "eAF6Da32UiV4"
      }
    },
    {
      "cell_type": "code",
      "source": [
        "device=\"cuda\" if torch.cuda.is_available() else \"cpu\"\n",
        "my_tensor=torch.tensor([[1,2,3],[4,5,6]],dtype=torch.float32,device=device,requires_grad=True)"
      ],
      "metadata": {
        "id": "R9WqoH7EF3d2"
      },
      "execution_count": 4,
      "outputs": []
    },
    {
      "cell_type": "code",
      "source": [
        "#原文書中的tensor initialize的做法\n",
        "points = torch.tensor([[4.0, 1.0], [5.0, 3.0], [2.0, 1.0]])\n",
        "points"
      ],
      "metadata": {
        "colab": {
          "base_uri": "https://localhost:8080/"
        },
        "id": "1C-YZUVaIWx_",
        "outputId": "593ea899-7d2f-4e0c-ea7e-f8aeec05ffa1"
      },
      "execution_count": 5,
      "outputs": [
        {
          "output_type": "execute_result",
          "data": {
            "text/plain": [
              "tensor([[4., 1.],\n",
              "        [5., 3.],\n",
              "        [2., 1.]])"
            ]
          },
          "metadata": {},
          "execution_count": 5
        }
      ]
    },
    {
      "cell_type": "code",
      "source": [
        "#印出tensor的屬性\n",
        "print(my_tensor)\n",
        "print(my_tensor.dtype)\n",
        "print(my_tensor.device)\n",
        "print(my_tensor.shape)\n",
        "print(my_tensor.requires_grad)"
      ],
      "metadata": {
        "id": "jt_weqEOHPKP",
        "colab": {
          "base_uri": "https://localhost:8080/"
        },
        "outputId": "cfb3ebde-5104-46e1-ee4f-32bb4586b858"
      },
      "execution_count": 6,
      "outputs": [
        {
          "output_type": "stream",
          "name": "stdout",
          "text": [
            "tensor([[1., 2., 3.],\n",
            "        [4., 5., 6.]], device='cuda:0', requires_grad=True)\n",
            "torch.float32\n",
            "cuda:0\n",
            "torch.Size([2, 3])\n",
            "True\n"
          ]
        }
      ]
    },
    {
      "cell_type": "markdown",
      "source": [
        "##Other common initialization methods"
      ],
      "metadata": {
        "id": "7Tdyk7a4UqTQ"
      }
    },
    {
      "cell_type": "code",
      "source": [
        "#其他初始化tensor的方法 Other common initialization methods\n",
        "\n",
        "x=torch.empty(size=(3,3)) #如果不知道要輸入甚麼value到tensor，可以用這個，內容是隨機的內存殘留值\n",
        "x=torch.zeros(size=(3,3)) #全部設為0\n",
        "x=torch.ones(size=(3,3)) #全部初始化為1\n",
        "x=torch.rand(size=(3,3)) #隨機初始化 範圍從0~1\n",
        "x=torch.eye(5,5) #單位矩陣 eye是I的諧音\n",
        "\n",
        "x=torch.arange(start=0,end=5,step=1) #這就跟python中的range沒什麼兩樣\n",
        "x=torch.linspace(start=0.1,end=1,steps=10) #等差數列，創建一個包含 10 個等間距數值的一維張量，範圍從 0.1 到 1（包含兩端點）\n",
        "x=torch.empty(size=(1,5)).normal_(mean=0,std=1) #問ai\n",
        "x=torch.empty(size=(1,5)).uniform_(0,1) #問ai\n",
        "x=torch.diag(torch.ones(3)) #創建3X3對角矩陣\n",
        "x=torch.diag(torch.tensor([2,4,6])) #設定值不全為1的對角矩陣\n",
        "\n",
        "print(x)"
      ],
      "metadata": {
        "id": "heWjPo--IHof",
        "colab": {
          "base_uri": "https://localhost:8080/"
        },
        "outputId": "b8b288e9-b4d9-4932-e4b5-7ad4b5dc3232"
      },
      "execution_count": 7,
      "outputs": [
        {
          "output_type": "stream",
          "name": "stdout",
          "text": [
            "tensor([[2, 0, 0],\n",
            "        [0, 4, 0],\n",
            "        [0, 0, 6]])\n"
          ]
        }
      ]
    },
    {
      "cell_type": "code",
      "source": [
        "#記住，以下這幾行的size可加可不加(原影片中沒加)\n",
        "\n",
        "x=torch.empty((3,3))\n",
        "x=torch.zeros((3,3))\n",
        "x=torch.ones((3,3))\n",
        "x=torch.rand((3,3))\n",
        "\n",
        "#以下為一些補充操作\n",
        "print(x[0]) #取用此多維tensor中的特定row\n",
        "#以下取用此多維tensor中的特定元素\n",
        "value = x[0, 1]\n",
        "print(value)\n"
      ],
      "metadata": {
        "id": "Q-icbnoNWdr5",
        "colab": {
          "base_uri": "https://localhost:8080/"
        },
        "outputId": "5f5942d7-560b-429f-f60c-6e8ed8f4e210"
      },
      "execution_count": 8,
      "outputs": [
        {
          "output_type": "stream",
          "name": "stdout",
          "text": [
            "tensor([0.4582, 0.3709, 0.9714])\n",
            "tensor(0.3709)\n"
          ]
        }
      ]
    },
    {
      "cell_type": "markdown",
      "source": [
        "##How to initialize and convert tensors to other types"
      ],
      "metadata": {
        "id": "hBsP04iCUxEg"
      }
    },
    {
      "cell_type": "code",
      "source": [
        "# How to initialize and convert tensors to other types (int, float, double)\n",
        "\n",
        "tensor=torch.arange(4)\n",
        "print(tensor.bool())\n",
        "print(tensor.short())\n",
        "print(tensor.long())\n",
        "print(tensor.half())\n",
        "print(tensor.float())\n",
        "print(tensor.double())"
      ],
      "metadata": {
        "colab": {
          "base_uri": "https://localhost:8080/"
        },
        "id": "48EqWe60IvBn",
        "outputId": "a054bc14-32af-4433-a384-4230cddeeb31"
      },
      "execution_count": 9,
      "outputs": [
        {
          "output_type": "stream",
          "name": "stdout",
          "text": [
            "tensor([False,  True,  True,  True])\n",
            "tensor([0, 1, 2, 3], dtype=torch.int16)\n",
            "tensor([0, 1, 2, 3])\n",
            "tensor([0., 1., 2., 3.], dtype=torch.float16)\n",
            "tensor([0., 1., 2., 3.])\n",
            "tensor([0., 1., 2., 3.], dtype=torch.float64)\n"
          ]
        }
      ]
    },
    {
      "cell_type": "markdown",
      "source": [
        "##Array to Tensor conversion and vice-versa"
      ],
      "metadata": {
        "id": "rebV4kEjYNX5"
      }
    },
    {
      "cell_type": "code",
      "source": [
        "#Array to Tensor conversion and vice-versa\n",
        "import numpy as np\n",
        "np_array=np.zeros((5,5))\n",
        "tensor=torch.from_numpy(np_array)#轉換為tensor\n",
        "np_array_back=tensor.numpy()#轉換回numpy"
      ],
      "metadata": {
        "id": "YqZ3Vj6yVjzA"
      },
      "execution_count": 10,
      "outputs": []
    },
    {
      "cell_type": "markdown",
      "source": [
        "##Tensor math"
      ],
      "metadata": {
        "id": "lGdDt3qV7Tz0"
      }
    },
    {
      "cell_type": "code",
      "source": [
        "#tensor的運算 (使用兩個預先建立好的tensor來做為範例說明)\n",
        "x=torch.tensor([1,2,3])\n",
        "y=torch.tensor([10,20,30])"
      ],
      "metadata": {
        "id": "569qjgxqYFof"
      },
      "execution_count": 11,
      "outputs": []
    },
    {
      "cell_type": "code",
      "source": [
        "#tensor的加法\n",
        "#第一種相加作法\n",
        "\n",
        "z1=torch.empty(3)\n",
        "torch.add(x,y,out=z1)\n",
        "print(z1)\n",
        "\n",
        "#第二種相加作法\n",
        "z2=torch.add(x,y)\n",
        "print(z2)\n",
        "\n",
        "#第三種相加法 (作者本人首選)\n",
        "z=x+y\n",
        "print(z)"
      ],
      "metadata": {
        "colab": {
          "base_uri": "https://localhost:8080/"
        },
        "id": "YG7ZF4Hz19o8",
        "outputId": "a482522c-6d90-4774-f1e6-71c366eca3be"
      },
      "execution_count": 12,
      "outputs": [
        {
          "output_type": "stream",
          "name": "stdout",
          "text": [
            "tensor([11., 22., 33.])\n",
            "tensor([11, 22, 33])\n",
            "tensor([11, 22, 33])\n"
          ]
        }
      ]
    },
    {
      "cell_type": "code",
      "source": [
        "#tensor的減法\n",
        "z=y-x\n",
        "print(z)"
      ],
      "metadata": {
        "id": "E_QNmPhT-7h9",
        "colab": {
          "base_uri": "https://localhost:8080/"
        },
        "outputId": "63435bb0-f6cb-4401-d94a-2afafb983df3"
      },
      "execution_count": 13,
      "outputs": [
        {
          "output_type": "stream",
          "name": "stdout",
          "text": [
            "tensor([ 9, 18, 27])\n"
          ]
        }
      ]
    },
    {
      "cell_type": "code",
      "source": [
        "#rensor除法\n",
        "z=torch.true_divide(y,x)\n",
        "print(z)"
      ],
      "metadata": {
        "id": "JDzJf6CQaJQm",
        "outputId": "03dd1b99-a8f4-4daa-8203-bddba9a8c15b",
        "colab": {
          "base_uri": "https://localhost:8080/"
        }
      },
      "execution_count": 14,
      "outputs": [
        {
          "output_type": "stream",
          "name": "stdout",
          "text": [
            "tensor([10., 10., 10.])\n"
          ]
        }
      ]
    },
    {
      "cell_type": "code",
      "source": [
        "#inplace operation\n",
        "t=torch.zeros(3)\n",
        "t.add_(x) #看到底線就可以知道是inplace\n",
        "print(t)\n",
        "\n",
        "#另一種inplace operation\n",
        "a=torch.zeros(3)\n",
        "a+=y #如果使用a=a+y則不會是inplece，而會創造一個copy\n",
        "print(a)"
      ],
      "metadata": {
        "id": "TYUw_4ioaLbl",
        "outputId": "f64f11f0-05dd-4859-cb41-bea5fd1eb9df",
        "colab": {
          "base_uri": "https://localhost:8080/"
        }
      },
      "execution_count": 15,
      "outputs": [
        {
          "output_type": "stream",
          "name": "stdout",
          "text": [
            "tensor([1., 2., 3.])\n",
            "tensor([10., 20., 30.])\n"
          ]
        }
      ]
    },
    {
      "cell_type": "code",
      "source": [
        "#exponentiation (冪運算)\n",
        "z=x.pow(2)\n",
        "print(z)\n",
        "z=x**2 #阿拉丁是推薦這個做法"
      ],
      "metadata": {
        "id": "B4gMwEQOaO-F",
        "outputId": "398d4dce-fcec-4ca3-80ae-3379f2c32ff2",
        "colab": {
          "base_uri": "https://localhost:8080/"
        }
      },
      "execution_count": 16,
      "outputs": [
        {
          "output_type": "stream",
          "name": "stdout",
          "text": [
            "tensor([1, 4, 9])\n"
          ]
        }
      ]
    },
    {
      "cell_type": "code",
      "source": [
        "#simple comparison 簡單的比較\n",
        "#逐一比較所有的element和0進行比較\n",
        "z=x>0\n",
        "z=x<0\n",
        "print(z)\n"
      ],
      "metadata": {
        "id": "QCBCPejdYhix",
        "colab": {
          "base_uri": "https://localhost:8080/"
        },
        "outputId": "4c5b0668-4577-4776-a483-4c6a9b6c413d"
      },
      "execution_count": 17,
      "outputs": [
        {
          "output_type": "stream",
          "name": "stdout",
          "text": [
            "tensor([False, False, False])\n"
          ]
        }
      ]
    },
    {
      "cell_type": "code",
      "source": [
        "#Matrix Multiplication 矩陣乘法\n",
        "x1=torch.rand((2,5))\n",
        "x2=torch.rand((5,3))\n",
        "x3=torch.mm(x1,x2) #變成一個2X3矩陣\n",
        "x4=x1.mm(x2) #另一種寫法\n",
        "print(x3)"
      ],
      "metadata": {
        "id": "Xr9OrLcraQb1",
        "outputId": "b7fc9900-f937-4870-a006-0787364d9e53",
        "colab": {
          "base_uri": "https://localhost:8080/"
        }
      },
      "execution_count": 18,
      "outputs": [
        {
          "output_type": "stream",
          "name": "stdout",
          "text": [
            "tensor([[1.3494, 1.6213, 1.3531],\n",
            "        [1.8491, 1.4425, 0.9212]])\n"
          ]
        }
      ]
    },
    {
      "cell_type": "code",
      "source": [
        "#matrix exponentiation 矩陣冪運算\n",
        "matrix_exp=torch.rand((5,5))\n",
        "print(matrix_exp.matrix_power(3)) #matrix_power用來計算matrix的整數次方AxAxA這種"
      ],
      "metadata": {
        "id": "_yRwv4B5aR61",
        "outputId": "a0cc9e4e-3b1e-4677-ac7d-0d081b0ecfb3",
        "colab": {
          "base_uri": "https://localhost:8080/"
        }
      },
      "execution_count": 19,
      "outputs": [
        {
          "output_type": "stream",
          "name": "stdout",
          "text": [
            "tensor([[2.4074, 3.1739, 3.1915, 3.4285, 3.7444],\n",
            "        [1.2635, 1.7492, 1.6275, 1.7982, 1.8772],\n",
            "        [3.3643, 4.7994, 4.7036, 4.9928, 5.0900],\n",
            "        [2.6903, 3.5811, 4.0058, 4.0734, 4.2642],\n",
            "        [3.0426, 4.0479, 4.4111, 4.5677, 4.7200]])\n"
          ]
        }
      ]
    },
    {
      "cell_type": "code",
      "source": [
        "#element wise muitiplication  逐元素相乘\n",
        "z=x*y\n",
        "print(z)\n"
      ],
      "metadata": {
        "id": "ENHTMCJtaTmN",
        "outputId": "5b5e9622-2065-48da-9a32-fb6243a5b567",
        "colab": {
          "base_uri": "https://localhost:8080/"
        }
      },
      "execution_count": 20,
      "outputs": [
        {
          "output_type": "stream",
          "name": "stdout",
          "text": [
            "tensor([10, 40, 90])\n"
          ]
        }
      ]
    },
    {
      "cell_type": "code",
      "source": [
        "#dot product 積之和\n",
        "z=torch.dot(x,y)\n",
        "print(z)"
      ],
      "metadata": {
        "id": "NLLpv8_7hEM5",
        "outputId": "009ddfee-c886-4683-cd23-5da63fcc3e32",
        "colab": {
          "base_uri": "https://localhost:8080/"
        }
      },
      "execution_count": 21,
      "outputs": [
        {
          "output_type": "stream",
          "name": "stdout",
          "text": [
            "tensor(140)\n"
          ]
        }
      ]
    },
    {
      "cell_type": "code",
      "source": [
        "# batch matrix multiplication 24:54\n",
        "batch=32\n",
        "n=10\n",
        "m=20\n",
        "p=30\n",
        "\n",
        "tensor1=torch.rand((batch,n,m))\n",
        "tensor2=torch.rand((batch,m,p))\n",
        "out_bmm=torch.bmm(tensor1,tensor2)\n",
        "print(out_bmm.shape)"
      ],
      "metadata": {
        "id": "T4PEBAHlaV2t",
        "outputId": "11d9894c-d098-4ae8-ce56-f41c2efcb71a",
        "colab": {
          "base_uri": "https://localhost:8080/"
        }
      },
      "execution_count": 22,
      "outputs": [
        {
          "output_type": "stream",
          "name": "stdout",
          "text": [
            "torch.Size([32, 10, 30])\n"
          ]
        }
      ]
    },
    {
      "cell_type": "code",
      "source": [
        "#broadcasting\n",
        "x1=torch.rand((5,5))\n",
        "x2=torch.rand((1,5)) #自動擴展變成(5,5)\n",
        "z=x1-x2\n",
        "print(z)\n",
        "z=x1**x2\n",
        "print(z)"
      ],
      "metadata": {
        "id": "-YN_DeCfaZFl",
        "outputId": "ca5e5877-53d1-4882-c947-97f01fbd2b1e",
        "colab": {
          "base_uri": "https://localhost:8080/"
        }
      },
      "execution_count": 23,
      "outputs": [
        {
          "output_type": "stream",
          "name": "stdout",
          "text": [
            "tensor([[-0.3540, -0.0619,  0.0782, -0.2968,  0.8636],\n",
            "        [-0.3363,  0.6948,  0.0577, -0.0869,  0.4969],\n",
            "        [-0.3489,  0.5960,  0.0996, -0.7285,  0.6768],\n",
            "        [ 0.2414,  0.6463, -0.7374, -0.7373,  0.7923],\n",
            "        [-0.2433, -0.2231, -0.4008, -0.3237,  0.2981]])\n",
            "tensor([[0.4648, 0.6555, 0.8837, 0.6762, 0.9957],\n",
            "        [0.4819, 0.9892, 0.8672, 0.8804, 0.9531],\n",
            "        [0.4697, 0.9611, 0.9008, 0.2474, 0.9764],\n",
            "        [0.9433, 0.9757, 0.0775, 0.2384, 0.9888],\n",
            "        [0.5676, 0.4313, 0.4665, 0.6499, 0.9183]])\n"
          ]
        }
      ]
    },
    {
      "cell_type": "markdown",
      "source": [
        "###Other useful tensor operation"
      ],
      "metadata": {
        "id": "ehdLp-Ygai59"
      }
    },
    {
      "cell_type": "code",
      "source": [
        "#sum\n",
        "x2=torch.rand((2,5))\n",
        "sum_x=torch.sum(x2,dim=1) #調整看看\n"
      ],
      "metadata": {
        "id": "RDNgs4B3XMc9"
      },
      "execution_count": 24,
      "outputs": []
    },
    {
      "cell_type": "code",
      "source": [
        "#回傳最大值以及其index\n",
        "value,indicies=torch.max(x2,dim=0)\n",
        "value,indicies=torch.min(x2,dim=0)"
      ],
      "metadata": {
        "id": "SJDosGs2amK2"
      },
      "execution_count": 25,
      "outputs": []
    },
    {
      "cell_type": "code",
      "source": [
        "#回傳絕對值\n",
        "abs_x2=torch.abs(x2)"
      ],
      "metadata": {
        "id": "XYtOqQsnanNm"
      },
      "execution_count": 26,
      "outputs": []
    },
    {
      "cell_type": "code",
      "source": [
        "#只回傳最大或最小值的index\n",
        "z=torch.argmax(x2,dim=0) #找出最大值的index\n",
        "z=torch.argmin(x2,dim=0)"
      ],
      "metadata": {
        "id": "0pgF37nWaol9"
      },
      "execution_count": 27,
      "outputs": []
    },
    {
      "cell_type": "code",
      "source": [
        "#計算平均值\n",
        "mean_x=torch.mean(x.float(),dim=0)"
      ],
      "metadata": {
        "id": "VaWr-jM-apie"
      },
      "execution_count": 28,
      "outputs": []
    },
    {
      "cell_type": "code",
      "source": [
        "#比較兩向量或矩陣\n",
        "z=torch.eq(x,y)\n",
        "z"
      ],
      "metadata": {
        "id": "O92T4AHsaqft",
        "outputId": "35d0f696-be40-41d5-f3c7-b702f6267239",
        "colab": {
          "base_uri": "https://localhost:8080/"
        }
      },
      "execution_count": 29,
      "outputs": [
        {
          "output_type": "execute_result",
          "data": {
            "text/plain": [
              "tensor([False, False, False])"
            ]
          },
          "metadata": {},
          "execution_count": 29
        }
      ]
    },
    {
      "cell_type": "code",
      "source": [
        "#排序\n",
        "sorted_y,indicies=torch.sort(y,dim=0,descending=False) #decending可以控制升冪或是降冪\n",
        "print(sorted_y)\n",
        "print(indicies)"
      ],
      "metadata": {
        "id": "cULEAo6Ras31",
        "outputId": "dffe3fd6-6e87-42a2-a74d-d2ad756ff08d",
        "colab": {
          "base_uri": "https://localhost:8080/"
        }
      },
      "execution_count": 33,
      "outputs": [
        {
          "output_type": "stream",
          "name": "stdout",
          "text": [
            "tensor([10, 20, 30])\n",
            "tensor([0, 1, 2])\n"
          ]
        }
      ]
    },
    {
      "cell_type": "code",
      "source": [
        "#32: 30 clamp 限制數字範圍\n",
        "x=torch.tensor([11,12,1,2,-1])\n",
        "z=torch.clamp(x,min=0,max=10)\n",
        "z"
      ],
      "metadata": {
        "id": "PxK8C6c-dNTE",
        "outputId": "6b5bbe69-c795-4f4d-a733-004926e49c90",
        "colab": {
          "base_uri": "https://localhost:8080/"
        }
      },
      "execution_count": 36,
      "outputs": [
        {
          "output_type": "execute_result",
          "data": {
            "text/plain": [
              "tensor([10, 10,  1,  2,  0])"
            ]
          },
          "metadata": {},
          "execution_count": 36
        }
      ]
    },
    {
      "cell_type": "code",
      "source": [
        "x=torch.tensor([0,0,0,0,0],dtype=bool)\n",
        "y=torch.tensor([1,0,0,0,0],dtype=bool)\n",
        "#any就是只要有一個是1就會為true\n",
        "z=torch.any(x)\n",
        "z1=torch.any(y)\n",
        "print(z)\n",
        "print(z1)"
      ],
      "metadata": {
        "id": "I59HiJ7CfYVt",
        "outputId": "b31093da-8e69-4096-a9c2-8aaeded5065e",
        "colab": {
          "base_uri": "https://localhost:8080/"
        }
      },
      "execution_count": 43,
      "outputs": [
        {
          "output_type": "stream",
          "name": "stdout",
          "text": [
            "tensor(False)\n",
            "tensor(True)\n"
          ]
        }
      ]
    },
    {
      "cell_type": "code",
      "source": [
        "x=torch.tensor([1,1,1,1,1],dtype=bool)\n",
        "y=torch.tensor([1,0,0,0,0],dtype=bool)\n",
        "#all就是全部都要是1才會為true\n",
        "z=torch.all(x)\n",
        "z1=torch.all(y)\n",
        "print(z)\n",
        "print(z1)"
      ],
      "metadata": {
        "id": "h_82S2_CgBRM",
        "outputId": "81e3540b-9117-40c5-ae73-7b942a66583c",
        "colab": {
          "base_uri": "https://localhost:8080/"
        }
      },
      "execution_count": 45,
      "outputs": [
        {
          "output_type": "stream",
          "name": "stdout",
          "text": [
            "tensor(True)\n",
            "tensor(False)\n"
          ]
        }
      ]
    },
    {
      "cell_type": "markdown",
      "source": [
        "##Tensor indexing"
      ],
      "metadata": {
        "id": "Eam_jVVNhvtu"
      }
    },
    {
      "cell_type": "code",
      "source": [
        "#基本的indexing\n",
        "batch_size=10\n",
        "features=25\n",
        "x=torch.rand((batch_size,features))\n",
        "print(x[0].shape) #相當於x[0,:] 取得所有二維的東西(所有feature)\n",
        "print(x[:,0].shape) #相反，取得所有batch_size\n",
        "print(x[2,0:5]) #第二個row的元素index0~4\n",
        "\n",
        "x[2,0]=30\n",
        "print(x[2,0:5]) #透過前一行對元素內容進行了修改\n",
        "\n",
        "# 把這兩個的shape拿掉看看裡面的內容物"
      ],
      "metadata": {
        "id": "JTAlPu8liVfc",
        "outputId": "b30c43e8-2a49-4f9b-a067-c576c30aa790",
        "colab": {
          "base_uri": "https://localhost:8080/"
        }
      },
      "execution_count": 59,
      "outputs": [
        {
          "output_type": "stream",
          "name": "stdout",
          "text": [
            "torch.Size([25])\n",
            "torch.Size([10])\n",
            "tensor([0.9543, 0.5122, 0.1341, 0.0538, 0.0841])\n",
            "tensor([30.0000,  0.5122,  0.1341,  0.0538,  0.0841])\n"
          ]
        }
      ]
    },
    {
      "cell_type": "code",
      "source": [
        "#37.51\n",
        "x=torch.arange(10) #創建一個從 0 到 9 的一維張量（tensor）\n",
        "indicies=[2,5,8] #定義一個索引列表，指定要選取的元素位置\n",
        "print(x[indicies]) #選取索引位置為 2、5、8 的元素"
      ],
      "metadata": {
        "id": "pb0rl9aemfrc",
        "outputId": "85211bec-52ea-4431-944f-3a9b675af003",
        "colab": {
          "base_uri": "https://localhost:8080/"
        }
      },
      "execution_count": 60,
      "outputs": [
        {
          "output_type": "stream",
          "name": "stdout",
          "text": [
            "tensor([2, 5, 8])\n"
          ]
        }
      ]
    },
    {
      "cell_type": "code",
      "source": [
        "#38:49"
      ],
      "metadata": {
        "id": "sDovSncyocQc"
      },
      "execution_count": null,
      "outputs": []
    }
  ]
}