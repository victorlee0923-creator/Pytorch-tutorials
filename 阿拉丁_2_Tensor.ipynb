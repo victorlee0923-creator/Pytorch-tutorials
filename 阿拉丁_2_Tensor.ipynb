{
  "nbformat": 4,
  "nbformat_minor": 0,
  "metadata": {
    "colab": {
      "provenance": [],
      "toc_visible": true,
      "gpuType": "T4",
      "authorship_tag": "ABX9TyPivmv/rumMoRPaW6ShnhhG",
      "include_colab_link": true
    },
    "kernelspec": {
      "name": "python3",
      "display_name": "Python 3"
    },
    "language_info": {
      "name": "python"
    },
    "accelerator": "GPU"
  },
  "cells": [
    {
      "cell_type": "markdown",
      "metadata": {
        "id": "view-in-github",
        "colab_type": "text"
      },
      "source": [
        "<a href=\"https://colab.research.google.com/github/victorlee0923-creator/Pytorch-tutorials/blob/main/%E9%98%BF%E6%8B%89%E4%B8%81_2_Tensor.ipynb\" target=\"_parent\"><img src=\"https://colab.research.google.com/assets/colab-badge.svg\" alt=\"Open In Colab\"/></a>"
      ]
    },
    {
      "cell_type": "code",
      "source": [
        "import torch"
      ],
      "metadata": {
        "id": "Rr5Sj_INEDIH"
      },
      "execution_count": 2,
      "outputs": []
    },
    {
      "cell_type": "code",
      "execution_count": 3,
      "metadata": {
        "id": "Wf4nPTYH5AbJ"
      },
      "outputs": [],
      "source": [
        "# my_tensor=torch.tensor([[1,2,3],[4,5,6]],dtype=torch.float32,device='cuda',requires_grad=True)\n",
        "# print(my_tensor)\n"
      ]
    },
    {
      "cell_type": "markdown",
      "source": [
        "##Initializing tensors"
      ],
      "metadata": {
        "id": "eAF6Da32UiV4"
      }
    },
    {
      "cell_type": "code",
      "source": [
        "device=\"cuda\" if torch.cuda.is_available() else \"cpu\"\n",
        "my_tensor=torch.tensor([[1,2,3],[4,5,6]],dtype=torch.float32,device=device,requires_grad=True)"
      ],
      "metadata": {
        "id": "R9WqoH7EF3d2"
      },
      "execution_count": 4,
      "outputs": []
    },
    {
      "cell_type": "code",
      "source": [
        "#原文書中的tensor initialize的做法\n",
        "points = torch.tensor([[4.0, 1.0], [5.0, 3.0], [2.0, 1.0]])\n",
        "points"
      ],
      "metadata": {
        "colab": {
          "base_uri": "https://localhost:8080/"
        },
        "id": "1C-YZUVaIWx_",
        "outputId": "591f0aa4-a8de-493c-92a5-1ea4522bdf92"
      },
      "execution_count": 5,
      "outputs": [
        {
          "output_type": "execute_result",
          "data": {
            "text/plain": [
              "tensor([[4., 1.],\n",
              "        [5., 3.],\n",
              "        [2., 1.]])"
            ]
          },
          "metadata": {},
          "execution_count": 5
        }
      ]
    },
    {
      "cell_type": "code",
      "source": [
        "#印出tensor的屬性\n",
        "print(my_tensor)\n",
        "print(my_tensor.dtype)\n",
        "print(my_tensor.device)\n",
        "print(my_tensor.shape)\n",
        "print(my_tensor.requires_grad)"
      ],
      "metadata": {
        "id": "jt_weqEOHPKP",
        "colab": {
          "base_uri": "https://localhost:8080/"
        },
        "outputId": "93ee0c93-d735-4dfc-ebe6-86c09664c491"
      },
      "execution_count": 6,
      "outputs": [
        {
          "output_type": "stream",
          "name": "stdout",
          "text": [
            "tensor([[1., 2., 3.],\n",
            "        [4., 5., 6.]], requires_grad=True)\n",
            "torch.float32\n",
            "cpu\n",
            "torch.Size([2, 3])\n",
            "True\n"
          ]
        }
      ]
    },
    {
      "cell_type": "markdown",
      "source": [
        "##Other common initialization methods"
      ],
      "metadata": {
        "id": "7Tdyk7a4UqTQ"
      }
    },
    {
      "cell_type": "code",
      "source": [
        "#其他初始化tensor的方法 Other common initialization methods\n",
        "\n",
        "x=torch.empty(size=(3,3)) #如果不知道要輸入甚麼value到tensor，可以用這個，內容是隨機的內存殘留值\n",
        "x=torch.zeros(size=(3,3)) #全部設為0\n",
        "x=torch.ones(size=(3,3)) #全部初始化為1\n",
        "x=torch.rand(size=(3,3)) #隨機初始化 範圍從0~1\n",
        "x=torch.eye(5,5) #單位矩陣 eye是I的諧音\n",
        "\n",
        "x=torch.arange(start=0,end=5,step=1) #這就跟python中的range沒什麼兩樣\n",
        "x=torch.linspace(start=0.1,end=1,steps=10) #等差數列，創建一個包含 10 個等間距數值的一維張量，範圍從 0.1 到 1（包含兩端點）\n",
        "x=torch.empty(size=(1,5)).normal_(mean=0,std=1) #問ai\n",
        "x=torch.empty(size=(1,5)).uniform_(0,1) #問ai\n",
        "x=torch.diag(torch.ones(3)) #創建3X3對角矩陣\n",
        "x=torch.diag(torch.tensor([2,4,6])) #設定值不全為1的對角矩陣\n",
        "\n",
        "print(x)"
      ],
      "metadata": {
        "id": "heWjPo--IHof",
        "colab": {
          "base_uri": "https://localhost:8080/"
        },
        "outputId": "c30bd29f-93db-4572-8a3d-569295eaefcd"
      },
      "execution_count": 7,
      "outputs": [
        {
          "output_type": "stream",
          "name": "stdout",
          "text": [
            "tensor([[2, 0, 0],\n",
            "        [0, 4, 0],\n",
            "        [0, 0, 6]])\n"
          ]
        }
      ]
    },
    {
      "cell_type": "code",
      "source": [
        "#記住，以下這幾行的size可加可不加(原影片中沒加)\n",
        "\n",
        "x=torch.empty((3,3))\n",
        "x=torch.zeros((3,3))\n",
        "x=torch.ones((3,3))\n",
        "x=torch.rand((3,3))\n",
        "\n",
        "#以下為一些補充操作\n",
        "print(x[0]) #取用此多維tensor中的特定row\n",
        "#以下取用此多維tensor中的特定元素\n",
        "value = x[0, 1]\n",
        "print(value)\n"
      ],
      "metadata": {
        "id": "Q-icbnoNWdr5",
        "colab": {
          "base_uri": "https://localhost:8080/"
        },
        "outputId": "820662d2-4b59-4f69-8dd6-ffb9a7bef75f"
      },
      "execution_count": 8,
      "outputs": [
        {
          "output_type": "stream",
          "name": "stdout",
          "text": [
            "tensor([0.4679, 0.5561, 0.1231])\n",
            "tensor(0.5561)\n"
          ]
        }
      ]
    },
    {
      "cell_type": "markdown",
      "source": [
        "##How to initialize and convert tensors to other types"
      ],
      "metadata": {
        "id": "hBsP04iCUxEg"
      }
    },
    {
      "cell_type": "code",
      "source": [
        "# How to initialize and convert tensors to other types (int, float, double)\n",
        "\n",
        "tensor=torch.arange(4)\n",
        "print(tensor.bool())\n",
        "print(tensor.short())\n",
        "print(tensor.long())\n",
        "print(tensor.half())\n",
        "print(tensor.float())\n",
        "print(tensor.double())"
      ],
      "metadata": {
        "colab": {
          "base_uri": "https://localhost:8080/"
        },
        "id": "48EqWe60IvBn",
        "outputId": "8fc4ee3b-a312-406d-9e50-52fc924df206"
      },
      "execution_count": 9,
      "outputs": [
        {
          "output_type": "stream",
          "name": "stdout",
          "text": [
            "tensor([False,  True,  True,  True])\n",
            "tensor([0, 1, 2, 3], dtype=torch.int16)\n",
            "tensor([0, 1, 2, 3])\n",
            "tensor([0., 1., 2., 3.], dtype=torch.float16)\n",
            "tensor([0., 1., 2., 3.])\n",
            "tensor([0., 1., 2., 3.], dtype=torch.float64)\n"
          ]
        }
      ]
    },
    {
      "cell_type": "markdown",
      "source": [
        "##Array to Tensor conversion and vice-versa"
      ],
      "metadata": {
        "id": "rebV4kEjYNX5"
      }
    },
    {
      "cell_type": "code",
      "source": [
        "#Array to Tensor conversion and vice-versa\n",
        "import numpy as np\n",
        "np_array=np.zeros((5,5))\n",
        "tensor=torch.from_numpy(np_array)#轉換為tensor\n",
        "np_array_back=tensor.numpy()#轉換回numpy"
      ],
      "metadata": {
        "id": "YqZ3Vj6yVjzA"
      },
      "execution_count": 10,
      "outputs": []
    },
    {
      "cell_type": "markdown",
      "source": [
        "##Tensor math"
      ],
      "metadata": {
        "id": "lGdDt3qV7Tz0"
      }
    },
    {
      "cell_type": "code",
      "source": [
        "#tensor的運算 (使用兩個預先建立好的tensor來做為範例說明)\n",
        "x=torch.tensor([1,2,3])\n",
        "y=torch.tensor([10,20,30])"
      ],
      "metadata": {
        "id": "569qjgxqYFof"
      },
      "execution_count": 11,
      "outputs": []
    },
    {
      "cell_type": "code",
      "source": [
        "#tensor的加法\n",
        "#第一種相加作法\n",
        "\n",
        "z1=torch.empty(3)\n",
        "torch.add(x,y,out=z1)\n",
        "print(z1)\n",
        "\n",
        "#第二種相加作法\n",
        "z2=torch.add(x,y)\n",
        "print(z2)\n",
        "\n",
        "#第三種相加法 (作者本人首選)\n",
        "z=x+y\n",
        "print(z)"
      ],
      "metadata": {
        "colab": {
          "base_uri": "https://localhost:8080/"
        },
        "id": "YG7ZF4Hz19o8",
        "outputId": "e653421d-ad98-463b-ad0a-117ecec7cab2"
      },
      "execution_count": 30,
      "outputs": [
        {
          "output_type": "stream",
          "name": "stdout",
          "text": [
            "tensor([11., 22., 33.])\n",
            "tensor([11, 22, 33])\n",
            "tensor([11, 22, 33])\n"
          ]
        }
      ]
    },
    {
      "cell_type": "code",
      "source": [
        "#tensor的減法\n",
        "z=y-x\n",
        "print(z)\n",
        "\n",
        "#rensor除法\n",
        "z=torch.true_divide(y,x)\n",
        "print(z)\n",
        "\n",
        "#inplace operation\n",
        "t=torch.zeros(3)\n",
        "t.add_(x) #看到底線就可以知道是inplace\n",
        "print(t)\n",
        "\n",
        "#另一種inplace operation\n",
        "a=torch.zeros(3)\n",
        "a+=y #如果使用a=a+y則不會是inplece，而會創造一個copy\n",
        "print(a)\n",
        "\n",
        "#exponentiation (冪運算)\n",
        "z=x.pow(2)\n",
        "print(z)\n",
        "z=x**2 #阿拉丁是推薦這個做法"
      ],
      "metadata": {
        "id": "E_QNmPhT-7h9"
      },
      "execution_count": null,
      "outputs": []
    },
    {
      "cell_type": "code",
      "source": [
        "#simple comparison 簡單的比較\n",
        "#逐一比較所有的element和0進行比較\n",
        "z=x>0\n",
        "z=x<0\n",
        "print(z)\n",
        "\n",
        "#Matrix Multiplication 矩陣乘法\n",
        "x1=torch.rand((2,5))\n",
        "x2=torch.rand((5,3))\n",
        "x3=torch.mm(x1,x2) #變成一個2X3矩陣\n",
        "x4=x1.mm(x2) #另一種寫法\n",
        "print(x3)\n",
        "\n",
        "#matrix exponentiation 矩陣冪運算\n",
        "matrix_exp=torch.rand((5,5))\n",
        "print(matrix_exp.matrix_power(3)) #matrix_power用來計算matrix的整數次方AxAxA這種\n",
        "\n",
        "#element wise muitiplication  逐元素相乘\n",
        "z=x*y\n",
        "print(z)\n",
        "\n"
      ],
      "metadata": {
        "id": "QCBCPejdYhix"
      },
      "execution_count": null,
      "outputs": []
    },
    {
      "cell_type": "code",
      "source": [
        "#dot product 積之和\n",
        "z=torch.dot(x,y)\n",
        "print(z)\n",
        "\n",
        "# batch matrix multiplication 24:54"
      ],
      "metadata": {
        "id": "NLLpv8_7hEM5"
      },
      "execution_count": null,
      "outputs": []
    }
  ]
}