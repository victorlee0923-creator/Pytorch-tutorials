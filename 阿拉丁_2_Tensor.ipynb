{
  "nbformat": 4,
  "nbformat_minor": 0,
  "metadata": {
    "colab": {
      "provenance": [],
      "toc_visible": true,
      "gpuType": "T4",
      "authorship_tag": "ABX9TyMTyw086Sd8lx0wi5edyzuX",
      "include_colab_link": true
    },
    "kernelspec": {
      "name": "python3",
      "display_name": "Python 3"
    },
    "language_info": {
      "name": "python"
    },
    "accelerator": "GPU"
  },
  "cells": [
    {
      "cell_type": "markdown",
      "metadata": {
        "id": "view-in-github",
        "colab_type": "text"
      },
      "source": [
        "<a href=\"https://colab.research.google.com/github/victorlee0923-creator/Pytorch-tutorials/blob/main/%E9%98%BF%E6%8B%89%E4%B8%81_2_Tensor.ipynb\" target=\"_parent\"><img src=\"https://colab.research.google.com/assets/colab-badge.svg\" alt=\"Open In Colab\"/></a>"
      ]
    },
    {
      "cell_type": "code",
      "source": [
        "import torch"
      ],
      "metadata": {
        "id": "Rr5Sj_INEDIH"
      },
      "execution_count": 30,
      "outputs": []
    },
    {
      "cell_type": "code",
      "execution_count": 31,
      "metadata": {
        "id": "Wf4nPTYH5AbJ"
      },
      "outputs": [],
      "source": [
        "# my_tensor=torch.tensor([[1,2,3],[4,5,6]],dtype=torch.float32,device='cuda',requires_grad=True)\n",
        "# print(my_tensor)\n"
      ]
    },
    {
      "cell_type": "markdown",
      "source": [
        "##Initializing tensors"
      ],
      "metadata": {
        "id": "eAF6Da32UiV4"
      }
    },
    {
      "cell_type": "code",
      "source": [
        "device=\"cuda\" if torch.cuda.is_available() else \"cpu\"\n",
        "my_tensor=torch.tensor([[1,2,3],[4,5,6]],dtype=torch.float32,device=device,requires_grad=True)"
      ],
      "metadata": {
        "id": "R9WqoH7EF3d2"
      },
      "execution_count": 32,
      "outputs": []
    },
    {
      "cell_type": "code",
      "source": [
        "#原文書中的tensor initialize的做法\n",
        "points = torch.tensor([[4.0, 1.0], [5.0, 3.0], [2.0, 1.0]])\n",
        "points"
      ],
      "metadata": {
        "colab": {
          "base_uri": "https://localhost:8080/"
        },
        "id": "1C-YZUVaIWx_",
        "outputId": "4c326076-e289-4241-8706-a227ff89ca00"
      },
      "execution_count": 33,
      "outputs": [
        {
          "output_type": "execute_result",
          "data": {
            "text/plain": [
              "tensor([[4., 1.],\n",
              "        [5., 3.],\n",
              "        [2., 1.]])"
            ]
          },
          "metadata": {},
          "execution_count": 33
        }
      ]
    },
    {
      "cell_type": "code",
      "source": [
        "#印出tensor的屬性\n",
        "print(my_tensor)\n",
        "print(my_tensor.dtype)\n",
        "print(my_tensor.device)\n",
        "print(my_tensor.shape)\n",
        "print(my_tensor.requires_grad)"
      ],
      "metadata": {
        "id": "jt_weqEOHPKP",
        "colab": {
          "base_uri": "https://localhost:8080/"
        },
        "outputId": "89fb5637-dd45-4726-9dfc-46c254e079c2"
      },
      "execution_count": 34,
      "outputs": [
        {
          "output_type": "stream",
          "name": "stdout",
          "text": [
            "tensor([[1., 2., 3.],\n",
            "        [4., 5., 6.]], device='cuda:0', requires_grad=True)\n",
            "torch.float32\n",
            "cuda:0\n",
            "torch.Size([2, 3])\n",
            "True\n"
          ]
        }
      ]
    },
    {
      "cell_type": "markdown",
      "source": [
        "##Other common initialization methods"
      ],
      "metadata": {
        "id": "7Tdyk7a4UqTQ"
      }
    },
    {
      "cell_type": "code",
      "source": [
        "#其他初始化tensor的方法 Other common initialization methods\n",
        "\n",
        "x=torch.empty(size=(3,3)) #如果不知道要輸入甚麼value到tensor，可以用這個，內容是隨機的內存殘留值\n",
        "x=torch.zeros(size=(3,3)) #全部設為0\n",
        "x=torch.ones(size=(3,3)) #全部初始化為1\n",
        "x=torch.rand(size=(3,3)) #隨機初始化 範圍從0~1\n",
        "x=torch.eye(5,5) #單位矩陣 eye是I的諧音\n",
        "\n",
        "x=torch.arange(start=0,end=5,step=1) #這就跟python中的range沒什麼兩樣\n",
        "x=torch.linspace(start=0.1,end=1,steps=10) #等差數列，創建一個包含 10 個等間距數值的一維張量，範圍從 0.1 到 1（包含兩端點）\n",
        "x=torch.empty(size=(1,5)).normal_(mean=0,std=1) #問ai\n",
        "x=torch.empty(size=(1,5)).uniform_(0,1) #問ai\n",
        "x=torch.diag(torch.ones(3)) #創建3X3對角矩陣\n",
        "x=torch.diag(torch.tensor([2,4,6])) #設定值不全為1的對角矩陣\n",
        "\n",
        "print(x)"
      ],
      "metadata": {
        "id": "heWjPo--IHof",
        "colab": {
          "base_uri": "https://localhost:8080/"
        },
        "outputId": "74ab1b44-4bd7-4283-98da-deb864260ca4"
      },
      "execution_count": 35,
      "outputs": [
        {
          "output_type": "stream",
          "name": "stdout",
          "text": [
            "tensor([[2, 0, 0],\n",
            "        [0, 4, 0],\n",
            "        [0, 0, 6]])\n"
          ]
        }
      ]
    },
    {
      "cell_type": "code",
      "source": [
        "#記住，以下這幾行的size可加可不加(原影片中沒加)\n",
        "\n",
        "x=torch.empty((3,3))\n",
        "x=torch.zeros((3,3))\n",
        "x=torch.ones((3,3))\n",
        "x=torch.rand((3,3))\n",
        "\n",
        "#以下為一些補充操作\n",
        "print(x[0]) #取用此多維tensor中的特定row\n",
        "#以下取用此多維tensor中的特定元素\n",
        "value = x[0, 1]\n",
        "print(value)\n"
      ],
      "metadata": {
        "id": "Q-icbnoNWdr5",
        "colab": {
          "base_uri": "https://localhost:8080/"
        },
        "outputId": "0de740e8-9054-471b-ce57-3796cd662c1f"
      },
      "execution_count": 36,
      "outputs": [
        {
          "output_type": "stream",
          "name": "stdout",
          "text": [
            "tensor([0.5745, 0.5472, 0.4740])\n",
            "tensor(0.5472)\n"
          ]
        }
      ]
    },
    {
      "cell_type": "markdown",
      "source": [
        "##How to initialize and convert tensors to other types"
      ],
      "metadata": {
        "id": "hBsP04iCUxEg"
      }
    },
    {
      "cell_type": "code",
      "source": [
        "# How to initialize and convert tensors to other types (int, float, double)\n",
        "\n",
        "tensor=torch.arange(4)\n",
        "print(tensor.bool())\n",
        "print(tensor.short())\n",
        "print(tensor.long())\n",
        "print(tensor.half())\n",
        "print(tensor.float())\n",
        "print(tensor.double())"
      ],
      "metadata": {
        "colab": {
          "base_uri": "https://localhost:8080/"
        },
        "id": "48EqWe60IvBn",
        "outputId": "040d4a6a-8550-4967-bf99-838bbfb7ac92"
      },
      "execution_count": 37,
      "outputs": [
        {
          "output_type": "stream",
          "name": "stdout",
          "text": [
            "tensor([False,  True,  True,  True])\n",
            "tensor([0, 1, 2, 3], dtype=torch.int16)\n",
            "tensor([0, 1, 2, 3])\n",
            "tensor([0., 1., 2., 3.], dtype=torch.float16)\n",
            "tensor([0., 1., 2., 3.])\n",
            "tensor([0., 1., 2., 3.], dtype=torch.float64)\n"
          ]
        }
      ]
    },
    {
      "cell_type": "markdown",
      "source": [
        "##Array to Tensor conversion and vice-versa"
      ],
      "metadata": {
        "id": "rebV4kEjYNX5"
      }
    },
    {
      "cell_type": "code",
      "source": [
        "#Array to Tensor conversion and vice-versa\n",
        "import numpy as np\n",
        "np_array=np.zeros((5,5))\n",
        "tensor=torch.from_numpy(np_array)#轉換為tensor\n",
        "np_array_back=tensor.numpy()#轉換回numpy"
      ],
      "metadata": {
        "id": "YqZ3Vj6yVjzA"
      },
      "execution_count": 38,
      "outputs": []
    },
    {
      "cell_type": "markdown",
      "source": [
        "##Tensor math"
      ],
      "metadata": {
        "id": "lGdDt3qV7Tz0"
      }
    },
    {
      "cell_type": "code",
      "source": [
        "#tensor的運算 (使用兩個預先建立好的tensor來做為範例說明)\n",
        "x=torch.tensor([1,2,3])\n",
        "y=torch.tensor([10,20,30])"
      ],
      "metadata": {
        "id": "569qjgxqYFof"
      },
      "execution_count": 39,
      "outputs": []
    },
    {
      "cell_type": "code",
      "source": [
        "#tensor的加法\n",
        "#第一種相加作法\n",
        "\n",
        "z1=torch.empty(3)\n",
        "torch.add(x,y,out=z1)\n",
        "print(z1)\n",
        "\n",
        "#第二種相加作法\n",
        "z2=torch.add(x,y)\n",
        "print(z2)\n",
        "\n",
        "#第三種相加法 (作者本人首選)\n",
        "z=x+y\n",
        "print(z)"
      ],
      "metadata": {
        "colab": {
          "base_uri": "https://localhost:8080/"
        },
        "id": "YG7ZF4Hz19o8",
        "outputId": "60b2a8fe-d045-4bec-9b96-7f5243b1d759"
      },
      "execution_count": 40,
      "outputs": [
        {
          "output_type": "stream",
          "name": "stdout",
          "text": [
            "tensor([11., 22., 33.])\n",
            "tensor([11, 22, 33])\n",
            "tensor([11, 22, 33])\n"
          ]
        }
      ]
    },
    {
      "cell_type": "code",
      "source": [
        "#tensor的減法\n",
        "z=y-x\n",
        "print(z)\n",
        "\n",
        "#rensor除法\n",
        "z=torch.true_divide(y,x)\n",
        "print(z)\n",
        "\n",
        "#inplace operation\n",
        "t=torch.zeros(3)\n",
        "t.add_(x) #看到底線就可以知道是inplace\n",
        "print(t)\n",
        "\n",
        "#另一種inplace operation\n",
        "a=torch.zeros(3)\n",
        "a+=y #如果使用a=a+y則不會是inplece，而會創造一個copy\n",
        "print(a)\n",
        "\n",
        "#exponentiation (冪運算)\n",
        "z=x.pow(2)\n",
        "print(z)\n",
        "z=x**2 #阿拉丁是推薦這個做法"
      ],
      "metadata": {
        "id": "E_QNmPhT-7h9",
        "colab": {
          "base_uri": "https://localhost:8080/"
        },
        "outputId": "09762ed2-dbad-4bfd-f90c-9fadf0379978"
      },
      "execution_count": 41,
      "outputs": [
        {
          "output_type": "stream",
          "name": "stdout",
          "text": [
            "tensor([ 9, 18, 27])\n",
            "tensor([10., 10., 10.])\n",
            "tensor([1., 2., 3.])\n",
            "tensor([10., 20., 30.])\n",
            "tensor([1, 4, 9])\n"
          ]
        }
      ]
    },
    {
      "cell_type": "code",
      "source": [
        "#simple comparison 簡單的比較\n",
        "#逐一比較所有的element和0進行比較\n",
        "z=x>0\n",
        "z=x<0\n",
        "print(z)\n",
        "\n",
        "#Matrix Multiplication 矩陣乘法\n",
        "x1=torch.rand((2,5))\n",
        "x2=torch.rand((5,3))\n",
        "x3=torch.mm(x1,x2) #變成一個2X3矩陣\n",
        "x4=x1.mm(x2) #另一種寫法\n",
        "print(x3)\n",
        "\n",
        "#matrix exponentiation 矩陣冪運算\n",
        "matrix_exp=torch.rand((5,5))\n",
        "print(matrix_exp.matrix_power(3)) #matrix_power用來計算matrix的整數次方AxAxA這種\n",
        "\n",
        "#element wise muitiplication  逐元素相乘\n",
        "z=x*y\n",
        "print(z)\n",
        "\n"
      ],
      "metadata": {
        "id": "QCBCPejdYhix",
        "colab": {
          "base_uri": "https://localhost:8080/"
        },
        "outputId": "0a4d9488-330f-419f-dfc0-aec944eabaa9"
      },
      "execution_count": 42,
      "outputs": [
        {
          "output_type": "stream",
          "name": "stdout",
          "text": [
            "tensor([False, False, False])\n",
            "tensor([[0.7159, 1.7236, 0.5705],\n",
            "        [1.1543, 3.3205, 0.9998]])\n",
            "tensor([[0.5386, 0.4235, 0.8373, 0.8558, 1.0409],\n",
            "        [0.8101, 0.6661, 1.0934, 1.1326, 1.4207],\n",
            "        [1.1917, 1.0491, 1.3826, 1.5719, 1.9344],\n",
            "        [0.7912, 0.6376, 1.0352, 0.8660, 1.2112],\n",
            "        [0.6797, 0.5836, 0.9166, 0.9658, 0.9258]])\n",
            "tensor([10, 40, 90])\n"
          ]
        }
      ]
    },
    {
      "cell_type": "code",
      "source": [
        "#dot product 積之和\n",
        "z=torch.dot(x,y)\n",
        "print(z)\n",
        "\n",
        "# batch matrix multiplication 24:54\n",
        "batch=32\n",
        "n=10\n",
        "m=20\n",
        "p=30\n",
        "\n",
        "tensor1=torch.rand((batch,n,m))\n",
        "tensor2=torch.rand((batch,m,p))\n",
        "out_bmm=torch.bmm(tensor1,tensor2)\n",
        "print(out_bmm.shape)\n",
        "\n",
        "#broadcasting\n",
        "x1=torch.rand((5,5))\n",
        "x2=torch.rand((1,5)) #自動擴展變成(5,5)\n",
        "z=x1-x2\n",
        "print(z)\n",
        "z=x1**x2\n",
        "print(z)"
      ],
      "metadata": {
        "id": "NLLpv8_7hEM5"
      },
      "execution_count": null,
      "outputs": []
    },
    {
      "cell_type": "code",
      "source": [
        "#Other useful tensor operation\n",
        "x2=torch.rand((2,5))\n",
        "sum_x=torch.sum(x2,dim=1) #調整看看\n",
        "\n",
        "#回傳最大值以及其index\n",
        "value,indicies=torch.max(x2,dim=0)\n",
        "value,indicies=torch.min(x2,dim=0)\n",
        "\n",
        "#回傳絕對值\n",
        "abs_x2=torch.abs(x2)\n",
        "\n",
        "#只回傳最大或最小值的index\n",
        "z=torch.argmax(x2,dim=0) #找出最大值的index\n",
        "z=torch.argmin(x2,dim=0)\n",
        "\n",
        "#計算平均值\n",
        "mean_x=torch.mean(x.float(),dim=0)\n",
        "\n",
        "#比較兩向量或矩陣\n",
        "z=torch.eq(x,y)\n",
        "\n",
        "#排序\n",
        "sorted_y,indicies=torch.sort(y,dim=0,descending=False) #decending可以控制升冪或是降冪\n",
        "\n",
        "z=torch.clamp(x,min=0,max=10)\n"
      ],
      "metadata": {
        "id": "RDNgs4B3XMc9"
      },
      "execution_count": 58,
      "outputs": []
    },
    {
      "cell_type": "code",
      "source": [
        "#32: 30 clamp"
      ],
      "metadata": {
        "id": "PxK8C6c-dNTE"
      },
      "execution_count": null,
      "outputs": []
    }
  ]
}